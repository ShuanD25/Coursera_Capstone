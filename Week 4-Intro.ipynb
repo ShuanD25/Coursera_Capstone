{
 "cells": [
  {
   "cell_type": "markdown",
   "metadata": {},
   "source": [
    "# IBM Data Science Capstone Project"
   ]
  },
  {
   "cell_type": "markdown",
   "metadata": {},
   "source": [
    "### Geographical Approach on Where to Open Your Restaurant in Chicago, Illinois, USA"
   ]
  },
  {
   "cell_type": "markdown",
   "metadata": {},
   "source": [
    "## Introduction"
   ]
  },
  {
   "cell_type": "markdown",
   "metadata": {},
   "source": [
    "Opening a new business is a very risky investment, especially when it comes to opening a new restaurant. Studies have shown that in the first year of a newly opened restaurant around 26% of them fails follow by 19% in the second and 14% in the third year. This means it is very important that you build your restaurant's business on a solid foundation, in other words, choosing a good location. Location is by far one of the most important factor in playing the success of a restaurant. Having a good menu and good staff is important to a restaurant's success, but having a good location is another key point that you can't overlook. While choosing a location on a little-traveled side street or back road might save you on rent, but as a consequence your business would not be very visible. Setting up shop near an area with a lot of vehicle traffic and foot traffic puts your name out to a lot more people and offers you the opportunity for a lot more cheap marketing. When choosing a location there are several important factors that you must consider such as the competition around you and if the neighborhood is safe. There are a lot more factors to consider when choosing the location, but for the sake of this project we will be only looking at these 2 factors. "
   ]
  },
  {
   "cell_type": "code",
   "execution_count": null,
   "metadata": {},
   "outputs": [],
   "source": []
  }
 ],
 "metadata": {
  "kernelspec": {
   "display_name": "Python",
   "language": "python",
   "name": "conda-env-python-py"
  },
  "language_info": {
   "codemirror_mode": {
    "name": "ipython",
    "version": 3
   },
   "file_extension": ".py",
   "mimetype": "text/x-python",
   "name": "python",
   "nbconvert_exporter": "python",
   "pygments_lexer": "ipython3",
   "version": "3.6.7"
  }
 },
 "nbformat": 4,
 "nbformat_minor": 4
}
