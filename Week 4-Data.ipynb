{
 "cells": [
  {
   "cell_type": "markdown",
   "metadata": {},
   "source": [
    "# IBM Data Science Capstone Project"
   ]
  },
  {
   "cell_type": "markdown",
   "metadata": {},
   "source": [
    "### Geographical Approach on Where to Open Your Restaurant in Chicago, Illinois, USA"
   ]
  },
  {
   "cell_type": "markdown",
   "metadata": {},
   "source": [
    "## Business Problem"
   ]
  },
  {
   "cell_type": "markdown",
   "metadata": {},
   "source": [
    "Suppose you're looking to open a Chinese restaurant in Chicago, Illinois, USA and is not sure where to open it. We can web scrape the neighborhoods, or communities, from Wikipedia and the FourSquare API to give us the stores that are opened in that area to help figure out the best location to start the restaurant. Using K-Mean clustering we can figure out which community does not have too much competition and then check if the area is safe using heat map on the crime rates in that neighborhood. The solutions that this project offers are only for advising purposes and in the end the decision is up to the one who is making the investment. Thus, the business question here will be, \"In which neighborhoods should I look for a space to open a Chinese restaurant?\""
   ]
  },
  {
   "cell_type": "code",
   "execution_count": null,
   "metadata": {},
   "outputs": [],
   "source": []
  }
 ],
 "metadata": {
  "kernelspec": {
   "display_name": "Python",
   "language": "python",
   "name": "conda-env-python-py"
  },
  "language_info": {
   "codemirror_mode": {
    "name": "ipython",
    "version": 3
   },
   "file_extension": ".py",
   "mimetype": "text/x-python",
   "name": "python",
   "nbconvert_exporter": "python",
   "pygments_lexer": "ipython3",
   "version": "3.6.7"
  }
 },
 "nbformat": 4,
 "nbformat_minor": 4
}
